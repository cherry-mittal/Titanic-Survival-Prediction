{
 "cells": [
  {
   "cell_type": "code",
   "execution_count": 1,
   "id": "1ced6fd3",
   "metadata": {
    "_cell_guid": "b1076dfc-b9ad-4769-8c92-a6c4dae69d19",
    "_uuid": "8f2839f25d086af736a60e9eeb907d3b93b6e0e5",
    "execution": {
     "iopub.execute_input": "2025-07-02T21:01:21.432120Z",
     "iopub.status.busy": "2025-07-02T21:01:21.431740Z",
     "iopub.status.idle": "2025-07-02T21:01:26.169618Z",
     "shell.execute_reply": "2025-07-02T21:01:26.168369Z"
    },
    "papermill": {
     "duration": 4.74325,
     "end_time": "2025-07-02T21:01:26.171421",
     "exception": false,
     "start_time": "2025-07-02T21:01:21.428171",
     "status": "completed"
    },
    "tags": []
   },
   "outputs": [
    {
     "name": "stdout",
     "output_type": "stream",
     "text": [
      "/kaggle/input/titanic/train.csv\n",
      "/kaggle/input/titanic/test.csv\n",
      "/kaggle/input/titanic/gender_submission.csv\n"
     ]
    }
   ],
   "source": [
    "# This Python 3 environment comes with many helpful analytics libraries installed\n",
    "# It is defined by the kaggle/python Docker image: https://github.com/kaggle/docker-python\n",
    "# For example, here's several helpful packages to load\n",
    "\n",
    "import numpy as np # linear algebra\n",
    "import pandas as pd # data processing, CSV file I/O (e.g. pd.read_csv)\n",
    "import matplotlib.pyplot as plt\n",
    "import seaborn as sns\n",
    "# Input data files are available in the read-only \"../input/\" directory\n",
    "# For example, running this (by clicking run or pressing Shift+Enter) will list all files under the input directory\n",
    "\n",
    "import os\n",
    "for dirname, _, filenames in os.walk('/kaggle/input'):\n",
    "    for filename in filenames:\n",
    "        print(os.path.join(dirname, filename))\n",
    "\n",
    "# You can write up to 20GB to the current directory (/kaggle/working/) that gets preserved as output when you create a version using \"Save & Run All\" \n",
    "# You can also write temporary files to /kaggle/temp/, but they won't be saved outside of the current session"
   ]
  },
  {
   "cell_type": "code",
   "execution_count": 2,
   "id": "01b6e8f3",
   "metadata": {
    "execution": {
     "iopub.execute_input": "2025-07-02T21:01:26.177960Z",
     "iopub.status.busy": "2025-07-02T21:01:26.177262Z",
     "iopub.status.idle": "2025-07-02T21:01:29.334182Z",
     "shell.execute_reply": "2025-07-02T21:01:29.333245Z"
    },
    "papermill": {
     "duration": 3.161802,
     "end_time": "2025-07-02T21:01:29.335646",
     "exception": false,
     "start_time": "2025-07-02T21:01:26.173844",
     "status": "completed"
    },
    "tags": []
   },
   "outputs": [
    {
     "name": "stdout",
     "output_type": "stream",
     "text": [
      "Your submission was successfully saved!\n"
     ]
    }
   ],
   "source": [
    "import pandas as pd\n",
    "from sklearn.model_selection import StratifiedKFold\n",
    "from sklearn.preprocessing import StandardScaler\n",
    "from sklearn.ensemble import RandomForestClassifier # Or XGBoostClassifier\n",
    "from sklearn.metrics import accuracy_score\n",
    "\n",
    "# 1. Load Data\n",
    "train_df = pd.read_csv(\"/kaggle/input/titanic/train.csv\")\n",
    "test_df = pd.read_csv(\"/kaggle/input/titanic/test.csv\")\n",
    "#submission_df = pd.read_csv(\"gender_submission.csv\") # For final submission format\n",
    "\n",
    "# Combine for consistent preprocessing\n",
    "combined_df = pd.concat([train_df.drop('Survived', axis=1), test_df], ignore_index=True)\n",
    "\n",
    "# 2. Feature Engineering\n",
    "# Handle Name -> Title\n",
    "combined_df['Title'] = combined_df['Name'].str.extract(' ([A-Za-z]+)\\.', expand=False)\n",
    "# Consolidate titles (as discussed in previous interaction)\n",
    "title_mapping = {\n",
    "    'Mlle': 'Miss', 'Major': 'Officer', 'Col': 'Officer', 'Capt': 'Officer',\n",
    "    'Ms': 'Miss', 'Countess': 'Royalty', 'Mme': 'Mrs', 'Don': 'Royalty',\n",
    "    'Lady': 'Royalty', 'Sir': 'Royalty', 'Dr': 'Officer', 'Rev': 'Officer',\n",
    "    'Jonkheer': 'Royalty', 'Dona': 'Royalty'\n",
    "}\n",
    "combined_df['Title'] = combined_df['Title'].replace(title_mapping)\n",
    "# For any remaining titles not mapped, categorize as 'Rare' or a default common title\n",
    "combined_df['Title'] = combined_df['Title'].fillna('Mr') # Or a more robust handling\n",
    "\n",
    "# Handle SibSp, Parch -> FamilySize, IsAlone\n",
    "combined_df['FamilySize'] = combined_df['SibSp'] + combined_df['Parch'] + 1\n",
    "combined_df['IsAlone'] = (combined_df['FamilySize'] == 1).astype(int)\n",
    "\n",
    "# Handle Cabin -> CabinDeck (and impute 'U' for unknown)\n",
    "combined_df['CabinDeck'] = combined_df['Cabin'].str[0].fillna('U')\n",
    "\n",
    "# Drop features not needed after engineering or too many NaNs\n",
    "combined_df = combined_df.drop(['Name', 'Ticket', 'Cabin', 'SibSp', 'Parch'], axis=1)\n",
    "\n",
    "# 3. Missing Value Imputation\n",
    "# Impute Embarked with mode of the combined (or just train for strictness)\n",
    "most_common_embarked = combined_df['Embarked'].mode()[0]\n",
    "combined_df['Embarked'] = combined_df['Embarked'].fillna(most_common_embarked)\n",
    "\n",
    "# Impute Fare with median (especially for test_data's single NaN)\n",
    "combined_df['Fare'] = combined_df['Fare'].fillna(combined_df['Fare'].median())\n",
    "\n",
    "# Impute Age based on Title (more sophisticated)\n",
    "# For simplicity here, just using overall median, but ideal would be by Title group\n",
    "#combined_df['Age'].fillna(combined_df['Age'].median(), inplace=True)\n",
    "combined_df[\"Age\"] = combined_df.groupby([\"Sex\", \"Pclass\", \"Title\"])[\"Age\"].transform(lambda x: x.fillna(x.median()))\n",
    "\n",
    "\n",
    "# 4. Convert Categorical Features to Numerical (One-Hot Encoding)\n",
    "combined_df = pd.get_dummies(combined_df, columns=['Sex', 'Embarked', 'Title', 'CabinDeck'], drop_first=True) # drop_first avoids multicollinearity\n",
    "\n",
    "# Re-separate train and test data\n",
    "X_train = combined_df.iloc[:len(train_df)].drop('PassengerId', axis=1)\n",
    "X_test = combined_df.iloc[len(train_df):].drop('PassengerId', axis=1)\n",
    "y_train = train_df['Survived']\n",
    "test_passenger_ids = test_df['PassengerId'] # Keep for submission\n",
    "\n",
    "# Align columns - crucial if test set has different categories\n",
    "train_cols = X_train.columns\n",
    "test_cols = X_test.columns\n",
    "missing_in_test = set(train_cols) - set(test_cols)\n",
    "for c in missing_in_test:\n",
    "    X_test[c] = 0\n",
    "missing_in_train = set(test_cols) - set(train_cols)\n",
    "for c in missing_in_train:\n",
    "    X_train[c] = 0\n",
    "X_test = X_test[train_cols] # Ensure order is same\n",
    "\n",
    "# 5. Model Training and Prediction\n",
    "model = RandomForestClassifier(n_estimators=1000, random_state=42) # Start with a good baseline\n",
    "model.fit(X_train, y_train)\n",
    "predictions = model.predict(X_test)\n",
    "\n",
    "# 6. Create Submission File (if this is for a Kaggle competition)\n",
    "submission = pd.DataFrame({'PassengerId': test_passenger_ids, 'Survived': predictions})\n",
    "submission.to_csv('submission.csv', index=False)\n",
    "print(\"Your submission was successfully saved!\")"
   ]
  }
 ],
 "metadata": {
  "kaggle": {
   "accelerator": "none",
   "dataSources": [
    {
     "databundleVersionId": 26502,
     "sourceId": 3136,
     "sourceType": "competition"
    }
   ],
   "dockerImageVersionId": 31040,
   "isGpuEnabled": false,
   "isInternetEnabled": false,
   "language": "python",
   "sourceType": "notebook"
  },
  "kernelspec": {
   "display_name": "Python 3",
   "language": "python",
   "name": "python3"
  },
  "language_info": {
   "codemirror_mode": {
    "name": "ipython",
    "version": 3
   },
   "file_extension": ".py",
   "mimetype": "text/x-python",
   "name": "python",
   "nbconvert_exporter": "python",
   "pygments_lexer": "ipython3",
   "version": "3.11.11"
  },
  "papermill": {
   "default_parameters": {},
   "duration": 14.285352,
   "end_time": "2025-07-02T21:01:30.058198",
   "environment_variables": {},
   "exception": null,
   "input_path": "__notebook__.ipynb",
   "output_path": "__notebook__.ipynb",
   "parameters": {},
   "start_time": "2025-07-02T21:01:15.772846",
   "version": "2.6.0"
  }
 },
 "nbformat": 4,
 "nbformat_minor": 5
}
